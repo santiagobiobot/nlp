{
 "cells": [
  {
   "cell_type": "markdown",
   "metadata": {
    "id": "NV8wZ0MTKjv_"
   },
   "source": [
    "<img src=\"https://github.com/hernancontigiani/ceia_memorias_especializacion/raw/master/Figures/logoFIUBA.jpg\" width=\"500\" align=\"center\">\n",
    "\n",
    "\n",
    "# Procesamiento de lenguaje natural\n",
    "## Bot basado en reglas con DNN + Spacy\n",
    "\n",
    "\n",
    "## Alumno: Fux, Santiago Javier (CEIA-6ta Cohorte)\n",
    "### Fecha: 2023-03-15"
   ]
  },
  {
   "cell_type": "markdown",
   "metadata": {
    "id": "Z_9z3H-yKrcK"
   },
   "source": [
    "#### Datos\n",
    "Este ejemplo se inspiró en otro Bot en inglés creado con NLTK, lo tienen como referencia para hacer lo mismo en inglés:\\\n",
    "[LINK](https://towardsdatascience.com/a-simple-chatbot-in-python-with-deep-learning-3e8669997758)"
   ]
  },
  {
   "cell_type": "markdown",
   "metadata": {
    "id": "oCVZakCzAjGN"
   },
   "source": [
    "### 1 - Instalar dependencias\n",
    "Para poder utilizar Spacy en castellano es necesario agregar la librería \"spacy-stanza\" para lematizar palabras en español."
   ]
  },
  {
   "cell_type": "code",
   "execution_count": 3,
   "metadata": {
    "id": "Zd8NLa4gsSmT"
   },
   "outputs": [],
   "source": [
    "# La última versión de spacy-stanza (>1.0) es compatible solo con spacy >=3.0\n",
    "# Nota: spacy 3.0 incorpora al pepiline nlp transformers\n",
    "!pip install -U spacy==3.1 --quiet\n",
    "!pip install -U spacy-stanza==1.0.0 --quiet"
   ]
  },
  {
   "cell_type": "code",
   "execution_count": 7,
   "metadata": {
    "id": "kzao7XO9NJAq"
   },
   "outputs": [],
   "source": [
    "import json\n",
    "import string\n",
    "import random \n",
    "import numpy as np\n",
    "\n",
    "import tensorflow as tf \n",
    "from tensorflow.keras import Sequential \n",
    "from tensorflow.keras.layers import Dense, Dropout"
   ]
  },
  {
   "cell_type": "code",
   "execution_count": 8,
   "metadata": {
    "id": "Z_ExOb8uvjqK"
   },
   "outputs": [
    {
     "data": {
      "application/vnd.jupyter.widget-view+json": {
       "model_id": "6d75668b874144baaad85d41c0619f40",
       "version_major": 2,
       "version_minor": 0
      },
      "text/plain": [
       "Downloading https://raw.githubusercontent.com/stanfordnlp/stanza-resources/main/resources_1.2.2.json:   0%|   …"
      ]
     },
     "metadata": {},
     "output_type": "display_data"
    },
    {
     "name": "stderr",
     "output_type": "stream",
     "text": [
      "2023-03-15 16:40:59 INFO: Downloading default packages for language: es (Spanish)...\n"
     ]
    },
    {
     "data": {
      "application/vnd.jupyter.widget-view+json": {
       "model_id": "90c41f715fd44d1fa92e416ed5bd0157",
       "version_major": 2,
       "version_minor": 0
      },
      "text/plain": [
       "Downloading http://nlp.stanford.edu/software/stanza/1.2.2/es/default.zip:   0%|          | 0.00/566M [00:00<?,…"
      ]
     },
     "metadata": {},
     "output_type": "display_data"
    },
    {
     "name": "stderr",
     "output_type": "stream",
     "text": [
      "2023-03-15 16:53:53 INFO: Finished downloading models and saved to /home/santiago/stanza_resources.\n",
      "2023-03-15 16:53:53 INFO: Loading these models for language: es (Spanish):\n",
      "=======================\n",
      "| Processor | Package |\n",
      "-----------------------\n",
      "| tokenize  | ancora  |\n",
      "| mwt       | ancora  |\n",
      "| pos       | ancora  |\n",
      "| lemma     | ancora  |\n",
      "| depparse  | ancora  |\n",
      "| ner       | conll02 |\n",
      "=======================\n",
      "\n",
      "2023-03-15 16:53:53 INFO: Use device: cpu\n",
      "2023-03-15 16:53:53 INFO: Loading: tokenize\n",
      "2023-03-15 16:53:54 INFO: Loading: mwt\n",
      "2023-03-15 16:53:54 INFO: Loading: pos\n",
      "2023-03-15 16:53:54 INFO: Loading: lemma\n",
      "2023-03-15 16:53:54 INFO: Loading: depparse\n",
      "2023-03-15 16:53:54 INFO: Loading: ner\n",
      "2023-03-15 16:53:55 INFO: Done loading processors!\n"
     ]
    }
   ],
   "source": [
    "import stanza\n",
    "import spacy_stanza\n",
    "\n",
    "# Vamos a usar SpaCy-Stanza. Stanza es una librería de NLP de Stanford\n",
    "# SpaCy armó un wrapper para los pipelines y modelos de Stanza\n",
    "# https://stanfordnlp.github.io/stanza/\n",
    "\n",
    "# Descargar el diccionario en español y armar el pipeline de NLP con spacy\n",
    "stanza.download(\"es\")\n",
    "nlp = spacy_stanza.load_pipeline(\"es\")"
   ]
  },
  {
   "cell_type": "markdown",
   "metadata": {
    "id": "_wF10RjVMBdV"
   },
   "source": [
    "### 2 - Herramientas de preprocesamiento de datos\n",
    "Entre las tareas de procesamiento de texto en español se implementa:\n",
    "- Quitar acentos y caracteres especiales\n",
    "- Quitar números\n",
    "- Quitar símbolos de puntuación"
   ]
  },
  {
   "cell_type": "code",
   "execution_count": 10,
   "metadata": {
    "id": "ZxoD2hEExmuX"
   },
   "outputs": [],
   "source": [
    "import re\n",
    "import unicodedata\n",
    "\n",
    "# El preprocesamento en castellano requiere más trabajo\n",
    "\n",
    "# Referencia de regex:\n",
    "# https://docs.python.org/3/library/re.html\n",
    "\n",
    "def preprocess_clean_text(text):    \n",
    "    # sacar tildes de las palabras:\n",
    "    text = unicodedata.normalize('NFKD', text).encode('ascii', 'ignore').decode('utf-8', 'ignore')\n",
    "    # quitar caracteres especiales\n",
    "    pattern = r'[^a-zA-z0-9.,!?/:;\\\"\\'\\s]' # [^ : ningún caracter de todos estos\n",
    "    # (termina eliminando cualquier caracter distinto de los del regex)\n",
    "    text = re.sub(pattern, '', text)\n",
    "    pattern = r'[^a-zA-z.,!?/:;\\\"\\'\\s]' # igual al anterior pero sin cifras numéricas\n",
    "    # quitar números\n",
    "    text = re.sub(pattern, '', text)\n",
    "    # quitar caracteres de puntuación\n",
    "    text = ''.join([c for c in text if c not in string.punctuation])\n",
    "    return text"
   ]
  },
  {
   "cell_type": "markdown",
   "metadata": {
    "id": "ilRbn0KfMm2r"
   },
   "source": [
    "### 3 - Diccionario de entrada"
   ]
  },
  {
   "cell_type": "code",
   "execution_count": 33,
   "metadata": {
    "id": "NgIGpjymNEH7"
   },
   "outputs": [],
   "source": [
    "# Dataset en formato JSON que representa las posibles preguntas (patterns)\n",
    "# y las posibles respuestas por categoría (tag)\n",
    "# Los \"patterns\" van a formar el corpus para entrenar el clasificador que clasifica en tags\n",
    "# \"respones\" son las respuestas predeterminadas posibles para cada tag\n",
    "dataset = {\"intents\": [\n",
    "             {\"tag\": \"bienvenida\",\n",
    "              \"patterns\": [\"Hola\", \"¿Cómo estás?\", \"¿Qué tal?\"],\n",
    "              \"responses\": [\"Hola!\", \"Hola, ¿Cómo estás?\", \"Hola, ¿Cómo podemos ayudarte?\"],\n",
    "             },\n",
    "             {\"tag\": \"precio\",\n",
    "              \"patterns\": [\"precio\", \"¿Cúal es el precio?\", \"¿Cuánto cuesta?\", \"¿Qué precio tiene?\", \"¿Cuánto vale?\", \"¿Cuánto sale?\"],\n",
    "              \"responses\": [\"El precio del controlador es de $62.000 + IVA\"]\n",
    "             },\n",
    "            {\"tag\": \"contacto\",\n",
    "              \"patterns\": [\"contacto\", \"número de contacto\", \"número de teléfono\", \"número de whatsapp\", \"whatsapp\"],\n",
    "              \"responses\": [\"Podés escribirnos por mail a soporte@device.com\", \"Nuestro correo es soporte@device.com, esperamos tu mail!\"]\n",
    "             },\n",
    "            {\"tag\": \"envios\",\n",
    "              \"patterns\": [\"¿Realizan envios?\", \"¿Cómo me llega el paquete?\"],\n",
    "              \"responses\": [\"Hacemos envíos por Vía Cargo a toda Argentina. Y por DHL al exterior.\"]\n",
    "             },\n",
    "            {\"tag\": \"pagos\",\n",
    "              \"patterns\": [\"medios de pago\", \"tarjeta de crédito\", \"tarjetas\", \"cuotas\", \"transferencia\", \"mercado pago\"],\n",
    "              \"responses\": [\"Aceptamos pagos por transferencia bancaria y Mercado Pago. En este link (https://google.com) podés encontrar los datos.\"]\n",
    "             },\n",
    "            {\"tag\": \"stock\",\n",
    "              \"patterns\": [\"Esto está disponible\", \"¿Tenes stock?\", \"¿Hay stock hoy?\"],\n",
    "              \"responses\": [\"Sí, tenemos stock para envío inmediato.\"]\n",
    "             },\n",
    "            {\"tag\": \"agradecimientos\",\n",
    "              \"patterns\": [ \"Muchas gracias\", \"Gracias\"],\n",
    "              \"responses\": [\"Por nada!, cualquier otra consulta podes escribirme\"]\n",
    "             },\n",
    "             {\"tag\": \"despedida\",\n",
    "              \"patterns\": [ \"Chau\", \"Hasta luego!\"],\n",
    "              \"responses\": [\"Hasta luego!\", \"Hablamos luego!\"]\n",
    "             },\n",
    "            {\"tag\": \"conexion wifi\",\n",
    "              \"patterns\": [ \"No puedo conectarme por Wifi\", \"no puedo conectarme a internet\", \"problema conexión wifi\"],\n",
    "              \"responses\": [\"Por favor, verifica que la red sea 2.4GHz\", \"Recordá que primero tenés que asociar al equipo a tu cuenta\",\n",
    "              \"Verificá que el led de comunicación parpadee en color azul.\"]\n",
    "            },\n",
    "            {\"tag\": \"conexion bluetooth\",\n",
    "              \"patterns\": [ \"No puedo conectarme localmente\", \"no puedo conectarme por bluetooth\", \"No puedo acceder directo a el equipo\"],\n",
    "              \"responses\": [\"Por favor, verifica que el equipo esté encendido y no haya otro dispositivo móvil conectado.\", \n",
    "                \"Verificá los permismos de la aplicación. Al inicio te solicitará permiso para conectarte y tenés que aceptarlo.\",\n",
    "              ]\n",
    "            },\n",
    "            {\"tag\": \"informacion\",\n",
    "              \"patterns\": [ \"Hola quiero recibir más información\", \"Pueden enviarme documentos técnicos?\", \"Quiero conocer más sobre el equipo\"],\n",
    "              \"responses\": [\"Hola, en la sección de soporte de nuestra web podrás obtener más información: https://google.com/soporte\", \n",
    "                \"Accedé a más información sobre nuestro producto en https://google.com/soporte\",\n",
    "              ]\n",
    "            },\n",
    "            {\"tag\": \"sensores\",\n",
    "              \"patterns\": [ \"Puedo conectar sensores?\", \"Qué sensores puedo instalar?\", \"Cuantos sensores puedo conectar?\"],\n",
    "              \"responses\": [\"Es posible conectar hasta 6 sensores analógicos y digitales. Los sensores pueden ser de humedad, caudal, ph, etc.\",\n",
    "              ]\n",
    "            },\n",
    "            {\"tag\": \"valvulas\",\n",
    "              \"patterns\": [ \"Cuántas válvulas puedo conectar?\", \"Cuántas zonas tiene?\", \"Puedo conectar una bomba?\"],\n",
    "              \"responses\": [\"Si, podés conectar hasta 8 zonas de riego y 2 bombas. Contás con hasta 8 programas con diferentes modos de activación.\",\n",
    "              ]\n",
    "            },\n",
    "            \n",
    "]}"
   ]
  },
  {
   "cell_type": "markdown",
   "metadata": {
    "id": "19PEDmIDfLRu"
   },
   "source": [
    "### 4 - Preprocesamiento y armado del dataset"
   ]
  },
  {
   "cell_type": "code",
   "execution_count": 34,
   "metadata": {
    "id": "b3HP8abHNRk3"
   },
   "outputs": [],
   "source": [
    "# Datos que necesitaremos, las palabras o vocabulario\n",
    "words = []\n",
    "classes = []\n",
    "doc_X = []\n",
    "doc_y = []\n",
    "\n",
    "# Por cada intención (intents) debemos tomar los patrones que la caracterízan\n",
    "# a esa intención y transformarla a tokens para almacenar en doc_X\n",
    "\n",
    "# El tag de cada intención se almacena como doc_Y (la clase a predecir)\n",
    "# En `words` vamos a guardar el vocabulario\n",
    "# En `class` las posibles clases o tags\n",
    "\n",
    "for intent in dataset[\"intents\"]:\n",
    "    for pattern in intent[\"patterns\"]:\n",
    "        # trasformar el patron a tokens\n",
    "        tokens = nlp(preprocess_clean_text(pattern.lower()))\n",
    "        # lematizar los tokens\n",
    "        for token in tokens:            \n",
    "            words.append(token.lemma_)\n",
    "        \n",
    "        doc_X.append(pattern)\n",
    "        doc_y.append(intent[\"tag\"])\n",
    "    \n",
    "    # Agregar el tag a las clases\n",
    "    if intent[\"tag\"] not in classes:\n",
    "        classes.append(intent[\"tag\"])\n",
    "\n",
    "# Elminar duplicados con \"set\" y ordenar el vocubulario y las clases por orden alfabético\n",
    "words = sorted(set(words))\n",
    "classes = sorted(set(classes))"
   ]
  },
  {
   "cell_type": "code",
   "execution_count": 35,
   "metadata": {
    "id": "Acy-gcugNbMH"
   },
   "outputs": [
    {
     "name": "stdout",
     "output_type": "stream",
     "text": [
      "words: ['a', 'acceder', 'bluetooth', 'bomba', 'chau', 'como', 'conectar', 'conexion', 'conocer', 'contacto', 'costar', 'credito', 'cual', 'cuanto', 'cuota', 'de', 'directo', 'disponible', 'documento', 'el', 'enviar', 'envio', 'equipo', 'este', 'gracias', 'haber', 'hasta', 'holar', 'hoy', 'informacion', 'instalar', 'internet', 'llegar', 'localmente', 'luego', 'mas', 'medio', 'mercado', 'mucho', 'no', 'numero', 'pago', 'paquete', 'poder', 'por', 'precio', 'problema', 'que', 'querer', 'realizar', 'recibir', 'salir', 'sensor', 'ser', 'sobre', 'stock', 'tal', 'tarjeta', 'tecnico', 'telefono', 'tener', 'transferencia', 'uno', 'valer', 'valvula', 'whatsapp', 'wifi', 'yo', 'zona']\n",
      "classes: ['agradecimientos', 'bienvenida', 'conexion bluetooth', 'conexion wifi', 'contacto', 'despedida', 'envios', 'informacion', 'pagos', 'precio', 'sensores', 'stock', 'valvulas']\n",
      "doc_X: ['Hola', '¿Cómo estás?', '¿Qué tal?', 'precio', '¿Cúal es el precio?', '¿Cuánto cuesta?', '¿Qué precio tiene?', '¿Cuánto vale?', '¿Cuánto sale?', 'contacto', 'número de contacto', 'número de teléfono', 'número de whatsapp', 'whatsapp', '¿Realizan envios?', '¿Cómo me llega el paquete?', 'medios de pago', 'tarjeta de crédito', 'tarjetas', 'cuotas', 'transferencia', 'mercado pago', 'Esto está disponible', '¿Tenes stock?', '¿Hay stock hoy?', 'Muchas gracias', 'Gracias', 'Chau', 'Hasta luego!', 'No puedo conectarme por Wifi', 'no puedo conectarme a internet', 'problema conexión wifi', 'No puedo conectarme localmente', 'no puedo conectarme por bluetooth', 'No puedo acceder directo a el equipo', 'Hola quiero recibir más información', 'Pueden enviarme documentos técnicos?', 'Quiero conocer más sobre el equipo', 'Puedo conectar sensores?', 'Qué sensores puedo instalar?', 'Cuantos sensores puedo conectar?', 'Cuántas válvulas puedo conectar?', 'Cuántas zonas tiene?', 'Puedo conectar una bomba?']\n",
      "doc_y: ['bienvenida', 'bienvenida', 'bienvenida', 'precio', 'precio', 'precio', 'precio', 'precio', 'precio', 'contacto', 'contacto', 'contacto', 'contacto', 'contacto', 'envios', 'envios', 'pagos', 'pagos', 'pagos', 'pagos', 'pagos', 'pagos', 'stock', 'stock', 'stock', 'agradecimientos', 'agradecimientos', 'despedida', 'despedida', 'conexion wifi', 'conexion wifi', 'conexion wifi', 'conexion bluetooth', 'conexion bluetooth', 'conexion bluetooth', 'informacion', 'informacion', 'informacion', 'sensores', 'sensores', 'sensores', 'valvulas', 'valvulas', 'valvulas']\n"
     ]
    }
   ],
   "source": [
    "print(\"words:\", words)\n",
    "print(\"classes:\", classes)\n",
    "print(\"doc_X:\", doc_X)\n",
    "print(\"doc_y:\", doc_y)"
   ]
  },
  {
   "cell_type": "code",
   "execution_count": 36,
   "metadata": {
    "id": "YI0L2U7IQcvy"
   },
   "outputs": [
    {
     "name": "stdout",
     "output_type": "stream",
     "text": [
      "Vocabulario: 69\n"
     ]
    }
   ],
   "source": [
    "# Tamaño del vocabulario\n",
    "print(\"Vocabulario:\", len(words))"
   ]
  },
  {
   "cell_type": "code",
   "execution_count": 37,
   "metadata": {
    "id": "hqBeGKRk_q4r"
   },
   "outputs": [
    {
     "name": "stdout",
     "output_type": "stream",
     "text": [
      "Tags: 13\n"
     ]
    }
   ],
   "source": [
    "# Cantidad de tags\n",
    "print(\"Tags:\", len(classes))"
   ]
  },
  {
   "cell_type": "code",
   "execution_count": 38,
   "metadata": {
    "id": "vpbJ0guPN2Uq"
   },
   "outputs": [
    {
     "name": "stdout",
     "output_type": "stream",
     "text": [
      "X: [0, 0, 0, 0, 0, 0, 0, 0, 0, 0, 0, 0, 0, 0, 0, 0, 0, 0, 0, 0, 0, 0, 0, 0, 0, 0, 0, 1, 0, 0, 0, 0, 0, 0, 0, 0, 0, 0, 0, 0, 0, 0, 0, 0, 0, 0, 0, 0, 0, 0, 0, 0, 0, 0, 0, 0, 0, 0, 0, 0, 0, 0, 0, 0, 0, 0, 0, 0, 0] y: [0, 1, 0, 0, 0, 0, 0, 0, 0, 0, 0, 0, 0]\n",
      "X: [0, 0, 0, 0, 0, 1, 0, 0, 0, 0, 0, 0, 0, 0, 0, 0, 0, 0, 0, 0, 0, 0, 0, 1, 0, 0, 0, 0, 0, 0, 0, 0, 0, 0, 0, 0, 0, 0, 0, 0, 0, 0, 0, 0, 0, 0, 0, 0, 0, 0, 0, 0, 0, 0, 0, 0, 0, 0, 0, 0, 0, 0, 0, 0, 0, 0, 0, 0, 0] y: [0, 1, 0, 0, 0, 0, 0, 0, 0, 0, 0, 0, 0]\n",
      "X: [0, 0, 0, 0, 0, 0, 0, 0, 0, 0, 0, 0, 0, 0, 0, 0, 0, 0, 0, 0, 0, 0, 0, 0, 0, 0, 0, 0, 0, 0, 0, 0, 0, 0, 0, 0, 0, 0, 0, 0, 0, 0, 0, 0, 0, 0, 0, 1, 0, 0, 0, 0, 0, 0, 0, 0, 1, 0, 0, 0, 0, 0, 0, 0, 0, 0, 0, 0, 0] y: [0, 1, 0, 0, 0, 0, 0, 0, 0, 0, 0, 0, 0]\n",
      "X: [0, 0, 0, 0, 0, 0, 0, 0, 0, 0, 0, 0, 0, 0, 0, 0, 0, 0, 0, 0, 0, 0, 0, 0, 0, 0, 0, 0, 0, 0, 0, 0, 0, 0, 0, 0, 0, 0, 0, 0, 0, 0, 0, 0, 0, 1, 0, 0, 0, 0, 0, 0, 0, 0, 0, 0, 0, 0, 0, 0, 0, 0, 0, 0, 0, 0, 0, 0, 0] y: [0, 0, 0, 0, 0, 0, 0, 0, 0, 1, 0, 0, 0]\n",
      "X: [0, 0, 0, 0, 0, 0, 0, 0, 0, 0, 0, 0, 1, 0, 0, 0, 0, 0, 0, 1, 0, 0, 0, 0, 0, 0, 0, 0, 0, 0, 0, 0, 0, 0, 0, 0, 0, 0, 0, 0, 0, 0, 0, 0, 0, 1, 0, 0, 0, 0, 0, 0, 0, 1, 0, 0, 0, 0, 0, 0, 0, 0, 0, 0, 0, 0, 0, 0, 0] y: [0, 0, 0, 0, 0, 0, 0, 0, 0, 1, 0, 0, 0]\n",
      "X: [0, 0, 0, 0, 0, 0, 0, 0, 0, 0, 1, 0, 0, 1, 0, 0, 0, 0, 0, 0, 0, 0, 0, 0, 0, 0, 0, 0, 0, 0, 0, 0, 0, 0, 0, 0, 0, 0, 0, 0, 0, 0, 0, 0, 0, 0, 0, 0, 0, 0, 0, 0, 0, 0, 0, 0, 0, 0, 0, 0, 0, 0, 0, 0, 0, 0, 0, 0, 0] y: [0, 0, 0, 0, 0, 0, 0, 0, 0, 1, 0, 0, 0]\n",
      "X: [0, 0, 0, 0, 0, 0, 0, 0, 0, 0, 0, 0, 0, 0, 0, 0, 0, 0, 0, 0, 0, 0, 0, 0, 0, 0, 0, 0, 0, 0, 0, 0, 0, 0, 0, 0, 0, 0, 0, 0, 0, 0, 0, 0, 0, 1, 0, 1, 0, 0, 0, 0, 0, 0, 0, 0, 0, 0, 0, 0, 1, 0, 0, 0, 0, 0, 0, 0, 0] y: [0, 0, 0, 0, 0, 0, 0, 0, 0, 1, 0, 0, 0]\n",
      "X: [0, 0, 0, 0, 0, 0, 0, 0, 0, 0, 0, 0, 0, 1, 0, 0, 0, 0, 0, 0, 0, 0, 0, 0, 0, 0, 0, 0, 0, 0, 0, 0, 0, 0, 0, 0, 0, 0, 0, 0, 0, 0, 0, 0, 0, 0, 0, 0, 0, 0, 0, 0, 0, 0, 0, 0, 0, 0, 0, 0, 0, 0, 0, 1, 0, 0, 0, 0, 0] y: [0, 0, 0, 0, 0, 0, 0, 0, 0, 1, 0, 0, 0]\n",
      "X: [0, 0, 0, 0, 0, 0, 0, 0, 0, 0, 0, 0, 0, 1, 0, 0, 0, 0, 0, 0, 0, 0, 0, 0, 0, 0, 0, 0, 0, 0, 0, 0, 0, 0, 0, 0, 0, 0, 0, 0, 0, 0, 0, 0, 0, 0, 0, 0, 0, 0, 0, 1, 0, 0, 0, 0, 0, 0, 0, 0, 0, 0, 0, 0, 0, 0, 0, 0, 0] y: [0, 0, 0, 0, 0, 0, 0, 0, 0, 1, 0, 0, 0]\n",
      "X: [0, 0, 0, 0, 0, 0, 0, 0, 0, 1, 0, 0, 0, 0, 0, 0, 0, 0, 0, 0, 0, 0, 0, 0, 0, 0, 0, 0, 0, 0, 0, 0, 0, 0, 0, 0, 0, 0, 0, 0, 0, 0, 0, 0, 0, 0, 0, 0, 0, 0, 0, 0, 0, 0, 0, 0, 0, 0, 0, 0, 0, 0, 0, 0, 0, 0, 0, 0, 0] y: [0, 0, 0, 0, 1, 0, 0, 0, 0, 0, 0, 0, 0]\n",
      "X: [0, 0, 0, 0, 0, 0, 0, 0, 0, 1, 0, 0, 0, 0, 0, 1, 0, 0, 0, 0, 0, 0, 0, 0, 0, 0, 0, 0, 0, 0, 0, 0, 0, 0, 0, 0, 0, 0, 0, 0, 1, 0, 0, 0, 0, 0, 0, 0, 0, 0, 0, 0, 0, 0, 0, 0, 0, 0, 0, 0, 0, 0, 0, 0, 0, 0, 0, 0, 0] y: [0, 0, 0, 0, 1, 0, 0, 0, 0, 0, 0, 0, 0]\n",
      "X: [0, 0, 0, 0, 0, 0, 0, 0, 0, 0, 0, 0, 0, 0, 0, 1, 0, 0, 0, 0, 0, 0, 0, 0, 0, 0, 0, 0, 0, 0, 0, 0, 0, 0, 0, 0, 0, 0, 0, 0, 1, 0, 0, 0, 0, 0, 0, 0, 0, 0, 0, 0, 0, 0, 0, 0, 0, 0, 0, 1, 0, 0, 0, 0, 0, 0, 0, 0, 0] y: [0, 0, 0, 0, 1, 0, 0, 0, 0, 0, 0, 0, 0]\n",
      "X: [0, 0, 0, 0, 0, 0, 0, 0, 0, 0, 0, 0, 0, 0, 0, 1, 0, 0, 0, 0, 0, 0, 0, 0, 0, 0, 0, 0, 0, 0, 0, 0, 0, 0, 0, 0, 0, 0, 0, 0, 1, 0, 0, 0, 0, 0, 0, 0, 0, 0, 0, 0, 0, 0, 0, 0, 0, 0, 0, 0, 0, 0, 0, 0, 0, 1, 0, 0, 0] y: [0, 0, 0, 0, 1, 0, 0, 0, 0, 0, 0, 0, 0]\n",
      "X: [0, 0, 0, 0, 0, 0, 0, 0, 0, 0, 0, 0, 0, 0, 0, 0, 0, 0, 0, 0, 0, 0, 0, 0, 0, 0, 0, 0, 0, 0, 0, 0, 0, 0, 0, 0, 0, 0, 0, 0, 0, 0, 0, 0, 0, 0, 0, 0, 0, 0, 0, 0, 0, 0, 0, 0, 0, 0, 0, 0, 0, 0, 0, 0, 0, 1, 0, 0, 0] y: [0, 0, 0, 0, 1, 0, 0, 0, 0, 0, 0, 0, 0]\n",
      "X: [0, 0, 0, 0, 0, 0, 0, 0, 0, 0, 0, 0, 0, 0, 0, 0, 0, 0, 0, 0, 0, 1, 0, 0, 0, 0, 0, 0, 0, 0, 0, 0, 0, 0, 0, 0, 0, 0, 0, 0, 0, 0, 0, 0, 0, 0, 0, 0, 0, 1, 0, 0, 0, 0, 0, 0, 0, 0, 0, 0, 0, 0, 0, 0, 0, 0, 0, 0, 0] y: [0, 0, 0, 0, 0, 0, 1, 0, 0, 0, 0, 0, 0]\n",
      "X: [0, 0, 0, 0, 0, 1, 0, 0, 0, 0, 0, 0, 0, 0, 0, 0, 0, 0, 0, 1, 0, 0, 0, 0, 0, 0, 0, 0, 0, 0, 0, 0, 1, 0, 0, 0, 0, 0, 0, 0, 0, 0, 1, 0, 0, 0, 0, 0, 0, 0, 0, 0, 0, 0, 0, 0, 0, 0, 0, 0, 0, 0, 0, 0, 0, 0, 0, 1, 0] y: [0, 0, 0, 0, 0, 0, 1, 0, 0, 0, 0, 0, 0]\n",
      "X: [0, 0, 0, 0, 0, 0, 0, 0, 0, 0, 0, 0, 0, 0, 0, 1, 0, 0, 0, 0, 0, 0, 0, 0, 0, 0, 0, 0, 0, 0, 0, 0, 0, 0, 0, 0, 1, 0, 0, 0, 0, 1, 0, 0, 0, 0, 0, 0, 0, 0, 0, 0, 0, 0, 0, 0, 0, 0, 0, 0, 0, 0, 0, 0, 0, 0, 0, 0, 0] y: [0, 0, 0, 0, 0, 0, 0, 0, 1, 0, 0, 0, 0]\n",
      "X: [0, 0, 0, 0, 0, 0, 0, 0, 0, 0, 0, 1, 0, 0, 0, 1, 0, 0, 0, 0, 0, 0, 0, 0, 0, 0, 0, 0, 0, 0, 0, 0, 0, 0, 0, 0, 0, 0, 0, 0, 0, 0, 0, 0, 0, 0, 0, 0, 0, 0, 0, 0, 0, 0, 0, 0, 0, 1, 0, 0, 0, 0, 0, 0, 0, 0, 0, 0, 0] y: [0, 0, 0, 0, 0, 0, 0, 0, 1, 0, 0, 0, 0]\n",
      "X: [0, 0, 0, 0, 0, 0, 0, 0, 0, 0, 0, 0, 0, 0, 0, 0, 0, 0, 0, 0, 0, 0, 0, 0, 0, 0, 0, 0, 0, 0, 0, 0, 0, 0, 0, 0, 0, 0, 0, 0, 0, 0, 0, 0, 0, 0, 0, 0, 0, 0, 0, 0, 0, 0, 0, 0, 0, 1, 0, 0, 0, 0, 0, 0, 0, 0, 0, 0, 0] y: [0, 0, 0, 0, 0, 0, 0, 0, 1, 0, 0, 0, 0]\n",
      "X: [0, 0, 0, 0, 0, 0, 0, 0, 0, 0, 0, 0, 0, 0, 1, 0, 0, 0, 0, 0, 0, 0, 0, 0, 0, 0, 0, 0, 0, 0, 0, 0, 0, 0, 0, 0, 0, 0, 0, 0, 0, 0, 0, 0, 0, 0, 0, 0, 0, 0, 0, 0, 0, 0, 0, 0, 0, 0, 0, 0, 0, 0, 0, 0, 0, 0, 0, 0, 0] y: [0, 0, 0, 0, 0, 0, 0, 0, 1, 0, 0, 0, 0]\n",
      "X: [0, 0, 0, 0, 0, 0, 0, 0, 0, 0, 0, 0, 0, 0, 0, 0, 0, 0, 0, 0, 0, 0, 0, 0, 0, 0, 0, 0, 0, 0, 0, 0, 0, 0, 0, 0, 0, 0, 0, 0, 0, 0, 0, 0, 0, 0, 0, 0, 0, 0, 0, 0, 0, 0, 0, 0, 0, 0, 0, 0, 0, 1, 0, 0, 0, 0, 0, 0, 0] y: [0, 0, 0, 0, 0, 0, 0, 0, 1, 0, 0, 0, 0]\n",
      "X: [0, 0, 0, 0, 0, 0, 0, 0, 0, 0, 0, 0, 0, 0, 0, 0, 0, 0, 0, 0, 0, 0, 0, 0, 0, 0, 0, 0, 0, 0, 0, 0, 0, 0, 0, 0, 0, 1, 0, 0, 0, 1, 0, 0, 0, 0, 0, 0, 0, 0, 0, 0, 0, 0, 0, 0, 0, 0, 0, 0, 0, 0, 0, 0, 0, 0, 0, 0, 0] y: [0, 0, 0, 0, 0, 0, 0, 0, 1, 0, 0, 0, 0]\n",
      "X: [0, 0, 0, 0, 0, 0, 0, 0, 0, 0, 0, 0, 0, 0, 0, 0, 0, 1, 0, 0, 0, 0, 0, 1, 0, 0, 0, 0, 0, 0, 0, 0, 0, 0, 0, 0, 0, 0, 0, 0, 0, 0, 0, 0, 0, 0, 0, 0, 0, 0, 0, 0, 0, 0, 0, 0, 0, 0, 0, 0, 0, 0, 0, 0, 0, 0, 0, 0, 0] y: [0, 0, 0, 0, 0, 0, 0, 0, 0, 0, 0, 1, 0]\n",
      "X: [0, 0, 0, 0, 0, 0, 0, 0, 0, 0, 0, 0, 0, 0, 0, 0, 0, 0, 0, 0, 0, 0, 0, 0, 0, 0, 0, 0, 0, 0, 0, 0, 0, 0, 0, 0, 0, 0, 0, 0, 0, 0, 0, 0, 0, 0, 0, 0, 0, 0, 0, 0, 0, 0, 0, 1, 0, 0, 0, 0, 1, 0, 0, 0, 0, 0, 0, 0, 0] y: [0, 0, 0, 0, 0, 0, 0, 0, 0, 0, 0, 1, 0]\n",
      "X: [0, 0, 0, 0, 0, 0, 0, 0, 0, 0, 0, 0, 0, 0, 0, 0, 0, 0, 0, 0, 0, 0, 0, 0, 0, 1, 0, 0, 1, 0, 0, 0, 0, 0, 0, 0, 0, 0, 0, 0, 0, 0, 0, 0, 0, 0, 0, 0, 0, 0, 0, 0, 0, 0, 0, 1, 0, 0, 0, 0, 0, 0, 0, 0, 0, 0, 0, 0, 0] y: [0, 0, 0, 0, 0, 0, 0, 0, 0, 0, 0, 1, 0]\n",
      "X: [0, 0, 0, 0, 0, 0, 0, 0, 0, 0, 0, 0, 0, 0, 0, 0, 0, 0, 0, 0, 0, 0, 0, 0, 1, 0, 0, 0, 0, 0, 0, 0, 0, 0, 0, 0, 0, 0, 1, 0, 0, 0, 0, 0, 0, 0, 0, 0, 0, 0, 0, 0, 0, 0, 0, 0, 0, 0, 0, 0, 0, 0, 0, 0, 0, 0, 0, 0, 0] y: [1, 0, 0, 0, 0, 0, 0, 0, 0, 0, 0, 0, 0]\n",
      "X: [0, 0, 0, 0, 0, 0, 0, 0, 0, 0, 0, 0, 0, 0, 0, 0, 0, 0, 0, 0, 0, 0, 0, 0, 1, 0, 0, 0, 0, 0, 0, 0, 0, 0, 0, 0, 0, 0, 0, 0, 0, 0, 0, 0, 0, 0, 0, 0, 0, 0, 0, 0, 0, 0, 0, 0, 0, 0, 0, 0, 0, 0, 0, 0, 0, 0, 0, 0, 0] y: [1, 0, 0, 0, 0, 0, 0, 0, 0, 0, 0, 0, 0]\n",
      "X: [0, 0, 0, 0, 1, 0, 0, 0, 0, 0, 0, 0, 0, 0, 0, 0, 0, 0, 0, 0, 0, 0, 0, 0, 0, 0, 0, 0, 0, 0, 0, 0, 0, 0, 0, 0, 0, 0, 0, 0, 0, 0, 0, 0, 0, 0, 0, 0, 0, 0, 0, 0, 0, 0, 0, 0, 0, 0, 0, 0, 0, 0, 0, 0, 0, 0, 0, 0, 0] y: [0, 0, 0, 0, 0, 1, 0, 0, 0, 0, 0, 0, 0]\n",
      "X: [0, 0, 0, 0, 0, 0, 0, 0, 0, 0, 0, 0, 0, 0, 0, 0, 0, 0, 0, 0, 0, 0, 0, 0, 0, 0, 1, 0, 0, 0, 0, 0, 0, 0, 1, 0, 0, 0, 0, 0, 0, 0, 0, 0, 0, 0, 0, 0, 0, 0, 0, 0, 0, 0, 0, 0, 0, 0, 0, 0, 0, 0, 0, 0, 0, 0, 0, 0, 0] y: [0, 0, 0, 0, 0, 1, 0, 0, 0, 0, 0, 0, 0]\n",
      "X: [0, 0, 0, 0, 0, 0, 1, 0, 0, 0, 0, 0, 0, 0, 0, 0, 0, 0, 0, 0, 0, 0, 0, 0, 0, 0, 0, 0, 0, 0, 0, 0, 0, 0, 0, 0, 0, 0, 0, 1, 0, 0, 0, 1, 1, 0, 0, 0, 0, 0, 0, 0, 0, 0, 0, 0, 0, 0, 0, 0, 0, 0, 0, 0, 0, 0, 1, 1, 0] y: [0, 0, 0, 1, 0, 0, 0, 0, 0, 0, 0, 0, 0]\n",
      "X: [1, 0, 0, 0, 0, 0, 1, 0, 0, 0, 0, 0, 0, 0, 0, 0, 0, 0, 0, 0, 0, 0, 0, 0, 0, 0, 0, 0, 0, 0, 0, 1, 0, 0, 0, 0, 0, 0, 0, 1, 0, 0, 0, 1, 0, 0, 0, 0, 0, 0, 0, 0, 0, 0, 0, 0, 0, 0, 0, 0, 0, 0, 0, 0, 0, 0, 0, 1, 0] y: [0, 0, 0, 1, 0, 0, 0, 0, 0, 0, 0, 0, 0]\n",
      "X: [0, 0, 0, 0, 0, 0, 0, 1, 0, 0, 0, 0, 0, 0, 0, 0, 0, 0, 0, 0, 0, 0, 0, 0, 0, 0, 0, 0, 0, 0, 0, 0, 0, 0, 0, 0, 0, 0, 0, 0, 0, 0, 0, 0, 0, 0, 1, 0, 0, 0, 0, 0, 0, 0, 0, 0, 0, 0, 0, 0, 0, 0, 0, 0, 0, 0, 1, 0, 0] y: [0, 0, 0, 1, 0, 0, 0, 0, 0, 0, 0, 0, 0]\n",
      "X: [0, 0, 0, 0, 0, 0, 1, 0, 0, 0, 0, 0, 0, 0, 0, 0, 0, 0, 0, 0, 0, 0, 0, 0, 0, 0, 0, 0, 0, 0, 0, 0, 0, 1, 0, 0, 0, 0, 0, 1, 0, 0, 0, 1, 0, 0, 0, 0, 0, 0, 0, 0, 0, 0, 0, 0, 0, 0, 0, 0, 0, 0, 0, 0, 0, 0, 0, 1, 0] y: [0, 0, 1, 0, 0, 0, 0, 0, 0, 0, 0, 0, 0]\n",
      "X: [0, 0, 1, 0, 0, 0, 1, 0, 0, 0, 0, 0, 0, 0, 0, 0, 0, 0, 0, 0, 0, 0, 0, 0, 0, 0, 0, 0, 0, 0, 0, 0, 0, 0, 0, 0, 0, 0, 0, 1, 0, 0, 0, 1, 1, 0, 0, 0, 0, 0, 0, 0, 0, 0, 0, 0, 0, 0, 0, 0, 0, 0, 0, 0, 0, 0, 0, 1, 0] y: [0, 0, 1, 0, 0, 0, 0, 0, 0, 0, 0, 0, 0]\n",
      "X: [1, 1, 0, 0, 0, 0, 0, 0, 0, 0, 0, 0, 0, 0, 0, 0, 1, 0, 0, 1, 0, 0, 1, 0, 0, 0, 0, 0, 0, 0, 0, 0, 0, 0, 0, 0, 0, 0, 0, 1, 0, 0, 0, 1, 0, 0, 0, 0, 0, 0, 0, 0, 0, 0, 0, 0, 0, 0, 0, 0, 0, 0, 0, 0, 0, 0, 0, 0, 0] y: [0, 0, 1, 0, 0, 0, 0, 0, 0, 0, 0, 0, 0]\n",
      "X: [0, 0, 0, 0, 0, 0, 0, 0, 0, 0, 0, 0, 0, 0, 0, 0, 0, 0, 0, 0, 0, 0, 0, 0, 0, 0, 0, 1, 0, 1, 0, 0, 0, 0, 0, 1, 0, 0, 0, 0, 0, 0, 0, 0, 0, 0, 0, 0, 1, 0, 1, 0, 0, 0, 0, 0, 0, 0, 0, 0, 0, 0, 0, 0, 0, 0, 0, 0, 0] y: [0, 0, 0, 0, 0, 0, 0, 1, 0, 0, 0, 0, 0]\n",
      "X: [0, 0, 0, 0, 0, 0, 0, 0, 0, 0, 0, 0, 0, 0, 0, 0, 0, 0, 1, 0, 1, 0, 0, 0, 0, 0, 0, 0, 0, 0, 0, 0, 0, 0, 0, 0, 0, 0, 0, 0, 0, 0, 0, 1, 0, 0, 0, 0, 0, 0, 0, 0, 0, 0, 0, 0, 0, 0, 1, 0, 0, 0, 0, 0, 0, 0, 0, 1, 0] y: [0, 0, 0, 0, 0, 0, 0, 1, 0, 0, 0, 0, 0]\n",
      "X: [0, 0, 0, 0, 0, 0, 0, 0, 1, 0, 0, 0, 0, 0, 0, 0, 0, 0, 0, 1, 0, 0, 1, 0, 0, 0, 0, 0, 0, 0, 0, 0, 0, 0, 0, 1, 0, 0, 0, 0, 0, 0, 0, 0, 0, 0, 0, 0, 1, 0, 0, 0, 0, 0, 1, 0, 0, 0, 0, 0, 0, 0, 0, 0, 0, 0, 0, 0, 0] y: [0, 0, 0, 0, 0, 0, 0, 1, 0, 0, 0, 0, 0]\n",
      "X: [0, 0, 0, 0, 0, 0, 1, 0, 0, 0, 0, 0, 0, 0, 0, 0, 0, 0, 0, 0, 0, 0, 0, 0, 0, 0, 0, 0, 0, 0, 0, 0, 0, 0, 0, 0, 0, 0, 0, 0, 0, 0, 0, 1, 0, 0, 0, 0, 0, 0, 0, 0, 1, 0, 0, 0, 0, 0, 0, 0, 0, 0, 0, 0, 0, 0, 0, 0, 0] y: [0, 0, 0, 0, 0, 0, 0, 0, 0, 0, 1, 0, 0]\n",
      "X: [0, 0, 0, 0, 0, 0, 0, 0, 0, 0, 0, 0, 0, 0, 0, 0, 0, 0, 0, 0, 0, 0, 0, 0, 0, 0, 0, 0, 0, 0, 1, 0, 0, 0, 0, 0, 0, 0, 0, 0, 0, 0, 0, 1, 0, 0, 0, 1, 0, 0, 0, 0, 1, 0, 0, 0, 0, 0, 0, 0, 0, 0, 0, 0, 0, 0, 0, 0, 0] y: [0, 0, 0, 0, 0, 0, 0, 0, 0, 0, 1, 0, 0]\n",
      "X: [0, 0, 0, 0, 0, 0, 1, 0, 0, 0, 0, 0, 0, 1, 0, 0, 0, 0, 0, 0, 0, 0, 0, 0, 0, 0, 0, 0, 0, 0, 0, 0, 0, 0, 0, 0, 0, 0, 0, 0, 0, 0, 0, 1, 0, 0, 0, 0, 0, 0, 0, 0, 1, 0, 0, 0, 0, 0, 0, 0, 0, 0, 0, 0, 0, 0, 0, 0, 0] y: [0, 0, 0, 0, 0, 0, 0, 0, 0, 0, 1, 0, 0]\n",
      "X: [0, 0, 0, 0, 0, 0, 1, 0, 0, 0, 0, 0, 0, 1, 0, 0, 0, 0, 0, 0, 0, 0, 0, 0, 0, 0, 0, 0, 0, 0, 0, 0, 0, 0, 0, 0, 0, 0, 0, 0, 0, 0, 0, 1, 0, 0, 0, 0, 0, 0, 0, 0, 0, 0, 0, 0, 0, 0, 0, 0, 0, 0, 0, 0, 1, 0, 0, 0, 0] y: [0, 0, 0, 0, 0, 0, 0, 0, 0, 0, 0, 0, 1]\n",
      "X: [0, 0, 0, 0, 0, 0, 0, 0, 0, 0, 0, 0, 0, 1, 0, 0, 0, 0, 0, 0, 0, 0, 0, 0, 0, 0, 0, 0, 0, 0, 0, 0, 0, 0, 0, 0, 0, 0, 0, 0, 0, 0, 0, 0, 0, 0, 0, 0, 0, 0, 0, 0, 0, 0, 0, 0, 0, 0, 0, 0, 1, 0, 0, 0, 0, 0, 0, 0, 1] y: [0, 0, 0, 0, 0, 0, 0, 0, 0, 0, 0, 0, 1]\n",
      "X: [0, 0, 0, 1, 0, 0, 1, 0, 0, 0, 0, 0, 0, 0, 0, 0, 0, 0, 0, 0, 0, 0, 0, 0, 0, 0, 0, 0, 0, 0, 0, 0, 0, 0, 0, 0, 0, 0, 0, 0, 0, 0, 0, 1, 0, 0, 0, 0, 0, 0, 0, 0, 0, 0, 0, 0, 0, 0, 0, 0, 0, 0, 1, 0, 0, 0, 0, 0, 0] y: [0, 0, 0, 0, 0, 0, 0, 0, 0, 0, 0, 0, 1]\n"
     ]
    }
   ],
   "source": [
    "# Transformar doc_X en bag of words por oneHotEncoding\n",
    "# Transformar doc_Y en un vector de clases multicategórico con oneHotEncoding\n",
    "\n",
    "training = []\n",
    "out_empty = [0] * len(classes)\n",
    "\n",
    "for idx, doc in enumerate(doc_X):\n",
    "    # Transformar la pregunta (input) en tokens y lematizar\n",
    "    text = []\n",
    "    tokens = nlp(preprocess_clean_text(doc.lower()))\n",
    "    for token in tokens:\n",
    "        text.append(token.lemma_)\n",
    "\n",
    "    # Transformar los tokens en \"Bag of words\" (arrays de 1 y 0)\n",
    "    bow = []\n",
    "    for word in words:\n",
    "        bow.append(1) if word in text else bow.append(0)\n",
    "    \n",
    "    # Crear el array de salida (class output) correspondiente\n",
    "    output_row = list(out_empty)\n",
    "    output_row[classes.index(doc_y[idx])] = 1\n",
    "\n",
    "    print(\"X:\", bow, \"y:\", output_row)\n",
    "    training.append([bow, output_row])\n",
    "\n",
    "# Mezclar los datos\n",
    "random.shuffle(training)\n",
    "training = np.array(training, dtype=object)\n",
    "# Dividir en datos de entrada y salida\n",
    "train_X = np.array(list(training[:, 0]))\n",
    "train_y = np.array(list(training[:, 1]))"
   ]
  },
  {
   "cell_type": "markdown",
   "metadata": {
    "id": "a_Hr8QaDfRf3"
   },
   "source": [
    "### 5 - Entrenamiento del modelo"
   ]
  },
  {
   "cell_type": "code",
   "execution_count": 39,
   "metadata": {
    "id": "fopb3NqcAGTz"
   },
   "outputs": [
    {
     "name": "stdout",
     "output_type": "stream",
     "text": [
      "input: (69,) output: 13\n"
     ]
    }
   ],
   "source": [
    "# Shape de entrada y salida\n",
    "input_shape = (train_X.shape[1],)\n",
    "output_shape = train_y.shape[1]\n",
    "print(\"input:\", input_shape, \"output:\", output_shape)"
   ]
  },
  {
   "cell_type": "code",
   "execution_count": 40,
   "metadata": {
    "id": "xy7tzkwdOZx9"
   },
   "outputs": [
    {
     "name": "stdout",
     "output_type": "stream",
     "text": [
      "Model: \"sequential_1\"\n",
      "_________________________________________________________________\n",
      " Layer (type)                Output Shape              Param #   \n",
      "=================================================================\n",
      " dense_3 (Dense)             (None, 128)               8960      \n",
      "                                                                 \n",
      " dropout_2 (Dropout)         (None, 128)               0         \n",
      "                                                                 \n",
      " dense_4 (Dense)             (None, 64)                8256      \n",
      "                                                                 \n",
      " dropout_3 (Dropout)         (None, 64)                0         \n",
      "                                                                 \n",
      " dense_5 (Dense)             (None, 13)                845       \n",
      "                                                                 \n",
      "=================================================================\n",
      "Total params: 18,061\n",
      "Trainable params: 18,061\n",
      "Non-trainable params: 0\n",
      "_________________________________________________________________\n",
      "None\n"
     ]
    }
   ],
   "source": [
    "# Entrenamiento del modelo DNN\n",
    "# - Modelo secuencial\n",
    "# - Con regularización\n",
    "# - softmax y optimizador Adam\n",
    "model = Sequential()\n",
    "model.add(Dense(128, input_shape=input_shape, activation=\"relu\"))\n",
    "model.add(Dropout(0.5))\n",
    "model.add(Dense(64, activation=\"relu\"))\n",
    "model.add(Dropout(0.5))\n",
    "model.add(Dense(output_shape, activation = \"softmax\"))\n",
    "\n",
    "model.compile(loss='categorical_crossentropy',\n",
    "              optimizer=\"Adam\",\n",
    "              metrics=[\"accuracy\"])\n",
    "print(model.summary())"
   ]
  },
  {
   "cell_type": "code",
   "execution_count": 41,
   "metadata": {
    "id": "r6hi4EcdOghm"
   },
   "outputs": [
    {
     "name": "stdout",
     "output_type": "stream",
     "text": [
      "Epoch 1/200\n",
      "2/2 [==============================] - 0s 2ms/step - loss: 2.5818 - accuracy: 0.1364\n",
      "Epoch 2/200\n",
      "2/2 [==============================] - 0s 2ms/step - loss: 2.5883 - accuracy: 0.0909\n",
      "Epoch 3/200\n",
      "2/2 [==============================] - 0s 2ms/step - loss: 2.5558 - accuracy: 0.0455\n",
      "Epoch 4/200\n",
      "2/2 [==============================] - 0s 3ms/step - loss: 2.5467 - accuracy: 0.1364\n",
      "Epoch 5/200\n",
      "2/2 [==============================] - 0s 3ms/step - loss: 2.5019 - accuracy: 0.1818\n",
      "Epoch 6/200\n",
      "2/2 [==============================] - 0s 3ms/step - loss: 2.5239 - accuracy: 0.1136\n",
      "Epoch 7/200\n",
      "2/2 [==============================] - 0s 2ms/step - loss: 2.5149 - accuracy: 0.2045\n",
      "Epoch 8/200\n",
      "2/2 [==============================] - 0s 3ms/step - loss: 2.5033 - accuracy: 0.0909\n",
      "Epoch 9/200\n",
      "2/2 [==============================] - 0s 3ms/step - loss: 2.5010 - accuracy: 0.1818\n",
      "Epoch 10/200\n",
      "2/2 [==============================] - 0s 3ms/step - loss: 2.4651 - accuracy: 0.2500\n",
      "Epoch 11/200\n",
      "2/2 [==============================] - 0s 3ms/step - loss: 2.3807 - accuracy: 0.2500\n",
      "Epoch 12/200\n",
      "2/2 [==============================] - 0s 3ms/step - loss: 2.4146 - accuracy: 0.2955\n",
      "Epoch 13/200\n",
      "2/2 [==============================] - 0s 3ms/step - loss: 2.3541 - accuracy: 0.2727\n",
      "Epoch 14/200\n",
      "2/2 [==============================] - 0s 5ms/step - loss: 2.4373 - accuracy: 0.2500\n",
      "Epoch 15/200\n",
      "2/2 [==============================] - 0s 3ms/step - loss: 2.4340 - accuracy: 0.2955\n",
      "Epoch 16/200\n",
      "2/2 [==============================] - 0s 3ms/step - loss: 2.3442 - accuracy: 0.3864\n",
      "Epoch 17/200\n",
      "2/2 [==============================] - 0s 5ms/step - loss: 2.4003 - accuracy: 0.1136\n",
      "Epoch 18/200\n",
      "2/2 [==============================] - 0s 3ms/step - loss: 2.3427 - accuracy: 0.2273\n",
      "Epoch 19/200\n",
      "2/2 [==============================] - 0s 3ms/step - loss: 2.3278 - accuracy: 0.3409\n",
      "Epoch 20/200\n",
      "2/2 [==============================] - 0s 3ms/step - loss: 2.2753 - accuracy: 0.4091\n",
      "Epoch 21/200\n",
      "2/2 [==============================] - 0s 3ms/step - loss: 2.2729 - accuracy: 0.3636\n",
      "Epoch 22/200\n",
      "2/2 [==============================] - 0s 3ms/step - loss: 2.1890 - accuracy: 0.4545\n",
      "Epoch 23/200\n",
      "2/2 [==============================] - 0s 3ms/step - loss: 2.2310 - accuracy: 0.4545\n",
      "Epoch 24/200\n",
      "2/2 [==============================] - 0s 2ms/step - loss: 2.2865 - accuracy: 0.3409\n",
      "Epoch 25/200\n",
      "2/2 [==============================] - 0s 2ms/step - loss: 2.1783 - accuracy: 0.3182\n",
      "Epoch 26/200\n",
      "2/2 [==============================] - 0s 3ms/step - loss: 2.1836 - accuracy: 0.4773\n",
      "Epoch 27/200\n",
      "2/2 [==============================] - 0s 3ms/step - loss: 2.1870 - accuracy: 0.4091\n",
      "Epoch 28/200\n",
      "2/2 [==============================] - 0s 3ms/step - loss: 2.1912 - accuracy: 0.3636\n",
      "Epoch 29/200\n",
      "2/2 [==============================] - 0s 6ms/step - loss: 2.0177 - accuracy: 0.5227\n",
      "Epoch 30/200\n",
      "2/2 [==============================] - 0s 5ms/step - loss: 2.1647 - accuracy: 0.4318\n",
      "Epoch 31/200\n",
      "2/2 [==============================] - 0s 4ms/step - loss: 2.0658 - accuracy: 0.4091\n",
      "Epoch 32/200\n",
      "2/2 [==============================] - 0s 4ms/step - loss: 1.9920 - accuracy: 0.5455\n",
      "Epoch 33/200\n",
      "2/2 [==============================] - 0s 5ms/step - loss: 2.0509 - accuracy: 0.4318\n",
      "Epoch 34/200\n",
      "2/2 [==============================] - 0s 5ms/step - loss: 2.0538 - accuracy: 0.3864\n",
      "Epoch 35/200\n",
      "2/2 [==============================] - 0s 4ms/step - loss: 1.9619 - accuracy: 0.5909\n",
      "Epoch 36/200\n",
      "2/2 [==============================] - 0s 4ms/step - loss: 1.9339 - accuracy: 0.5227\n",
      "Epoch 37/200\n",
      "2/2 [==============================] - 0s 5ms/step - loss: 1.9819 - accuracy: 0.5682\n",
      "Epoch 38/200\n",
      "2/2 [==============================] - 0s 3ms/step - loss: 1.9503 - accuracy: 0.5227\n",
      "Epoch 39/200\n",
      "2/2 [==============================] - 0s 4ms/step - loss: 1.9304 - accuracy: 0.5227\n",
      "Epoch 40/200\n",
      "2/2 [==============================] - 0s 4ms/step - loss: 1.8688 - accuracy: 0.5000\n",
      "Epoch 41/200\n",
      "2/2 [==============================] - 0s 9ms/step - loss: 1.9228 - accuracy: 0.4773\n",
      "Epoch 42/200\n",
      "2/2 [==============================] - 0s 4ms/step - loss: 1.7936 - accuracy: 0.6364\n",
      "Epoch 43/200\n",
      "2/2 [==============================] - 0s 3ms/step - loss: 1.7495 - accuracy: 0.5909\n",
      "Epoch 44/200\n",
      "2/2 [==============================] - 0s 5ms/step - loss: 1.8808 - accuracy: 0.4318\n",
      "Epoch 45/200\n",
      "2/2 [==============================] - 0s 3ms/step - loss: 1.8143 - accuracy: 0.5909\n",
      "Epoch 46/200\n",
      "2/2 [==============================] - 0s 3ms/step - loss: 1.6934 - accuracy: 0.6364\n",
      "Epoch 47/200\n",
      "2/2 [==============================] - 0s 4ms/step - loss: 1.6117 - accuracy: 0.6364\n",
      "Epoch 48/200\n",
      "2/2 [==============================] - 0s 3ms/step - loss: 1.6284 - accuracy: 0.5455\n",
      "Epoch 49/200\n",
      "2/2 [==============================] - 0s 3ms/step - loss: 1.7070 - accuracy: 0.5000\n",
      "Epoch 50/200\n",
      "2/2 [==============================] - 0s 3ms/step - loss: 1.6897 - accuracy: 0.5909\n",
      "Epoch 51/200\n",
      "2/2 [==============================] - 0s 7ms/step - loss: 1.5217 - accuracy: 0.7273\n",
      "Epoch 52/200\n",
      "2/2 [==============================] - 0s 5ms/step - loss: 1.5890 - accuracy: 0.6591\n",
      "Epoch 53/200\n",
      "2/2 [==============================] - 0s 4ms/step - loss: 1.5205 - accuracy: 0.7045\n",
      "Epoch 54/200\n",
      "2/2 [==============================] - 0s 3ms/step - loss: 1.4443 - accuracy: 0.7045\n",
      "Epoch 55/200\n",
      "2/2 [==============================] - 0s 4ms/step - loss: 1.5180 - accuracy: 0.6591\n",
      "Epoch 56/200\n",
      "2/2 [==============================] - 0s 4ms/step - loss: 1.5285 - accuracy: 0.7045\n",
      "Epoch 57/200\n",
      "2/2 [==============================] - 0s 4ms/step - loss: 1.5779 - accuracy: 0.6136\n",
      "Epoch 58/200\n",
      "2/2 [==============================] - 0s 3ms/step - loss: 1.4559 - accuracy: 0.7273\n",
      "Epoch 59/200\n",
      "2/2 [==============================] - 0s 3ms/step - loss: 1.4491 - accuracy: 0.6364\n",
      "Epoch 60/200\n",
      "2/2 [==============================] - 0s 4ms/step - loss: 1.4055 - accuracy: 0.6591\n",
      "Epoch 61/200\n",
      "2/2 [==============================] - 0s 4ms/step - loss: 1.4124 - accuracy: 0.6818\n",
      "Epoch 62/200\n",
      "2/2 [==============================] - 0s 4ms/step - loss: 1.2744 - accuracy: 0.8182\n",
      "Epoch 63/200\n",
      "2/2 [==============================] - 0s 3ms/step - loss: 1.3532 - accuracy: 0.7273\n",
      "Epoch 64/200\n",
      "2/2 [==============================] - 0s 4ms/step - loss: 1.1609 - accuracy: 0.7955\n",
      "Epoch 65/200\n",
      "2/2 [==============================] - 0s 4ms/step - loss: 1.3079 - accuracy: 0.7273\n",
      "Epoch 66/200\n",
      "2/2 [==============================] - 0s 3ms/step - loss: 1.2396 - accuracy: 0.7955\n",
      "Epoch 67/200\n",
      "2/2 [==============================] - 0s 3ms/step - loss: 1.1413 - accuracy: 0.7727\n",
      "Epoch 68/200\n",
      "2/2 [==============================] - 0s 3ms/step - loss: 1.1419 - accuracy: 0.7273\n",
      "Epoch 69/200\n",
      "2/2 [==============================] - 0s 8ms/step - loss: 1.0736 - accuracy: 0.7955\n",
      "Epoch 70/200\n",
      "2/2 [==============================] - 0s 3ms/step - loss: 1.1519 - accuracy: 0.8409\n",
      "Epoch 71/200\n",
      "2/2 [==============================] - 0s 4ms/step - loss: 1.2928 - accuracy: 0.7045\n",
      "Epoch 72/200\n",
      "2/2 [==============================] - 0s 3ms/step - loss: 1.0430 - accuracy: 0.8182\n",
      "Epoch 73/200\n",
      "2/2 [==============================] - 0s 3ms/step - loss: 1.1046 - accuracy: 0.7727\n",
      "Epoch 74/200\n",
      "2/2 [==============================] - 0s 2ms/step - loss: 1.0188 - accuracy: 0.7273\n",
      "Epoch 75/200\n",
      "2/2 [==============================] - 0s 5ms/step - loss: 1.0232 - accuracy: 0.7727\n",
      "Epoch 76/200\n",
      "2/2 [==============================] - 0s 4ms/step - loss: 1.1031 - accuracy: 0.7955\n",
      "Epoch 77/200\n",
      "2/2 [==============================] - 0s 3ms/step - loss: 0.9215 - accuracy: 0.8864\n",
      "Epoch 78/200\n",
      "2/2 [==============================] - 0s 4ms/step - loss: 0.9981 - accuracy: 0.7045\n",
      "Epoch 79/200\n",
      "2/2 [==============================] - 0s 3ms/step - loss: 0.9779 - accuracy: 0.7727\n",
      "Epoch 80/200\n",
      "2/2 [==============================] - 0s 4ms/step - loss: 0.8701 - accuracy: 0.8409\n",
      "Epoch 81/200\n",
      "2/2 [==============================] - 0s 3ms/step - loss: 0.9346 - accuracy: 0.8182\n",
      "Epoch 82/200\n",
      "2/2 [==============================] - 0s 4ms/step - loss: 0.9053 - accuracy: 0.8182\n",
      "Epoch 83/200\n",
      "2/2 [==============================] - 0s 3ms/step - loss: 1.0691 - accuracy: 0.7273\n",
      "Epoch 84/200\n",
      "2/2 [==============================] - 0s 3ms/step - loss: 0.9218 - accuracy: 0.7500\n",
      "Epoch 85/200\n",
      "2/2 [==============================] - 0s 2ms/step - loss: 0.8573 - accuracy: 0.9091\n",
      "Epoch 86/200\n",
      "2/2 [==============================] - 0s 4ms/step - loss: 0.8002 - accuracy: 0.8636\n",
      "Epoch 87/200\n",
      "2/2 [==============================] - 0s 3ms/step - loss: 0.8471 - accuracy: 0.8182\n",
      "Epoch 88/200\n",
      "2/2 [==============================] - 0s 3ms/step - loss: 0.7146 - accuracy: 0.8864\n",
      "Epoch 89/200\n",
      "2/2 [==============================] - 0s 5ms/step - loss: 0.7633 - accuracy: 0.8636\n",
      "Epoch 90/200\n",
      "2/2 [==============================] - 0s 2ms/step - loss: 0.8452 - accuracy: 0.7955\n",
      "Epoch 91/200\n",
      "2/2 [==============================] - 0s 2ms/step - loss: 0.8890 - accuracy: 0.7955\n",
      "Epoch 92/200\n",
      "2/2 [==============================] - 0s 5ms/step - loss: 0.7597 - accuracy: 0.8182\n",
      "Epoch 93/200\n",
      "2/2 [==============================] - 0s 3ms/step - loss: 0.7644 - accuracy: 0.8636\n",
      "Epoch 94/200\n",
      "2/2 [==============================] - 0s 4ms/step - loss: 0.8880 - accuracy: 0.7727\n",
      "Epoch 95/200\n",
      "2/2 [==============================] - 0s 3ms/step - loss: 0.7359 - accuracy: 0.8182\n",
      "Epoch 96/200\n",
      "2/2 [==============================] - 0s 3ms/step - loss: 0.6226 - accuracy: 0.9318\n",
      "Epoch 97/200\n",
      "2/2 [==============================] - 0s 3ms/step - loss: 0.6353 - accuracy: 0.9091\n",
      "Epoch 98/200\n",
      "2/2 [==============================] - 0s 3ms/step - loss: 0.7802 - accuracy: 0.8409\n",
      "Epoch 99/200\n",
      "2/2 [==============================] - 0s 3ms/step - loss: 0.6837 - accuracy: 0.8182\n",
      "Epoch 100/200\n",
      "2/2 [==============================] - 0s 6ms/step - loss: 0.6856 - accuracy: 0.8636\n",
      "Epoch 101/200\n",
      "2/2 [==============================] - 0s 3ms/step - loss: 0.8064 - accuracy: 0.7955\n",
      "Epoch 102/200\n",
      "2/2 [==============================] - 0s 3ms/step - loss: 0.5852 - accuracy: 0.9091\n",
      "Epoch 103/200\n",
      "2/2 [==============================] - 0s 2ms/step - loss: 0.5698 - accuracy: 0.8636\n",
      "Epoch 104/200\n",
      "2/2 [==============================] - 0s 4ms/step - loss: 0.5695 - accuracy: 0.9545\n",
      "Epoch 105/200\n",
      "2/2 [==============================] - 0s 3ms/step - loss: 0.5853 - accuracy: 0.9091\n",
      "Epoch 106/200\n",
      "2/2 [==============================] - 0s 3ms/step - loss: 0.5696 - accuracy: 0.8864\n",
      "Epoch 107/200\n",
      "2/2 [==============================] - 0s 4ms/step - loss: 0.6988 - accuracy: 0.7727\n",
      "Epoch 108/200\n",
      "2/2 [==============================] - 0s 4ms/step - loss: 0.6275 - accuracy: 0.9318\n",
      "Epoch 109/200\n",
      "2/2 [==============================] - 0s 3ms/step - loss: 0.5234 - accuracy: 0.9773\n",
      "Epoch 110/200\n",
      "2/2 [==============================] - 0s 6ms/step - loss: 0.6178 - accuracy: 0.7955\n",
      "Epoch 111/200\n",
      "2/2 [==============================] - 0s 2ms/step - loss: 0.6096 - accuracy: 0.8864\n",
      "Epoch 112/200\n",
      "2/2 [==============================] - 0s 3ms/step - loss: 0.6285 - accuracy: 0.7955\n",
      "Epoch 113/200\n",
      "2/2 [==============================] - 0s 3ms/step - loss: 0.4584 - accuracy: 0.8864\n",
      "Epoch 114/200\n",
      "2/2 [==============================] - 0s 3ms/step - loss: 0.5693 - accuracy: 0.8864\n",
      "Epoch 115/200\n",
      "2/2 [==============================] - 0s 4ms/step - loss: 0.4480 - accuracy: 0.9318\n",
      "Epoch 116/200\n",
      "2/2 [==============================] - 0s 3ms/step - loss: 0.5401 - accuracy: 0.8864\n",
      "Epoch 117/200\n",
      "2/2 [==============================] - 0s 3ms/step - loss: 0.5961 - accuracy: 0.8636\n",
      "Epoch 118/200\n",
      "2/2 [==============================] - 0s 3ms/step - loss: 0.4298 - accuracy: 0.9773\n",
      "Epoch 119/200\n",
      "2/2 [==============================] - 0s 4ms/step - loss: 0.4529 - accuracy: 0.9773\n",
      "Epoch 120/200\n",
      "2/2 [==============================] - 0s 3ms/step - loss: 0.4841 - accuracy: 0.9545\n",
      "Epoch 121/200\n",
      "2/2 [==============================] - 0s 3ms/step - loss: 0.3371 - accuracy: 0.9773\n",
      "Epoch 122/200\n",
      "2/2 [==============================] - 0s 3ms/step - loss: 0.4615 - accuracy: 0.9318\n",
      "Epoch 123/200\n",
      "2/2 [==============================] - 0s 4ms/step - loss: 0.5043 - accuracy: 0.9091\n",
      "Epoch 124/200\n",
      "2/2 [==============================] - 0s 4ms/step - loss: 0.4410 - accuracy: 0.9091\n",
      "Epoch 125/200\n",
      "2/2 [==============================] - 0s 3ms/step - loss: 0.4477 - accuracy: 0.9091\n",
      "Epoch 126/200\n",
      "2/2 [==============================] - 0s 4ms/step - loss: 0.5432 - accuracy: 0.8636\n",
      "Epoch 127/200\n",
      "2/2 [==============================] - 0s 2ms/step - loss: 0.4178 - accuracy: 0.9318\n",
      "Epoch 128/200\n",
      "2/2 [==============================] - 0s 4ms/step - loss: 0.5272 - accuracy: 0.9091\n",
      "Epoch 129/200\n",
      "2/2 [==============================] - 0s 3ms/step - loss: 0.3911 - accuracy: 0.9091\n",
      "Epoch 130/200\n",
      "2/2 [==============================] - 0s 5ms/step - loss: 0.3254 - accuracy: 0.9773\n",
      "Epoch 131/200\n",
      "2/2 [==============================] - 0s 2ms/step - loss: 0.3982 - accuracy: 0.9318\n",
      "Epoch 132/200\n",
      "2/2 [==============================] - 0s 3ms/step - loss: 0.3146 - accuracy: 0.9773\n",
      "Epoch 133/200\n",
      "2/2 [==============================] - 0s 3ms/step - loss: 0.4045 - accuracy: 0.9318\n",
      "Epoch 134/200\n",
      "2/2 [==============================] - 0s 3ms/step - loss: 0.4277 - accuracy: 0.9318\n",
      "Epoch 135/200\n",
      "2/2 [==============================] - 0s 3ms/step - loss: 0.3462 - accuracy: 0.9545\n",
      "Epoch 136/200\n",
      "2/2 [==============================] - 0s 3ms/step - loss: 0.4171 - accuracy: 0.9545\n",
      "Epoch 137/200\n",
      "2/2 [==============================] - 0s 3ms/step - loss: 0.4251 - accuracy: 0.9545\n",
      "Epoch 138/200\n",
      "2/2 [==============================] - 0s 3ms/step - loss: 0.4099 - accuracy: 0.9318\n",
      "Epoch 139/200\n",
      "2/2 [==============================] - 0s 3ms/step - loss: 0.3127 - accuracy: 0.9545\n",
      "Epoch 140/200\n",
      "2/2 [==============================] - 0s 3ms/step - loss: 0.4428 - accuracy: 0.9318\n",
      "Epoch 141/200\n",
      "2/2 [==============================] - 0s 4ms/step - loss: 0.2906 - accuracy: 0.9773\n",
      "Epoch 142/200\n",
      "2/2 [==============================] - 0s 3ms/step - loss: 0.3185 - accuracy: 0.9318\n",
      "Epoch 143/200\n",
      "2/2 [==============================] - 0s 3ms/step - loss: 0.5201 - accuracy: 0.8636\n",
      "Epoch 144/200\n",
      "2/2 [==============================] - 0s 3ms/step - loss: 0.3145 - accuracy: 0.9545\n",
      "Epoch 145/200\n",
      "2/2 [==============================] - 0s 3ms/step - loss: 0.2233 - accuracy: 1.0000\n",
      "Epoch 146/200\n",
      "2/2 [==============================] - 0s 5ms/step - loss: 0.3184 - accuracy: 0.9318\n",
      "Epoch 147/200\n",
      "2/2 [==============================] - 0s 3ms/step - loss: 0.3628 - accuracy: 0.9545\n",
      "Epoch 148/200\n",
      "2/2 [==============================] - 0s 4ms/step - loss: 0.2224 - accuracy: 1.0000\n",
      "Epoch 149/200\n",
      "2/2 [==============================] - 0s 4ms/step - loss: 0.2849 - accuracy: 0.9773\n",
      "Epoch 150/200\n",
      "2/2 [==============================] - 0s 4ms/step - loss: 0.3442 - accuracy: 1.0000\n",
      "Epoch 151/200\n",
      "2/2 [==============================] - 0s 3ms/step - loss: 0.2530 - accuracy: 0.9773\n",
      "Epoch 152/200\n",
      "2/2 [==============================] - 0s 4ms/step - loss: 0.3229 - accuracy: 0.8864\n",
      "Epoch 153/200\n",
      "2/2 [==============================] - 0s 4ms/step - loss: 0.3375 - accuracy: 0.9091\n",
      "Epoch 154/200\n",
      "2/2 [==============================] - 0s 4ms/step - loss: 0.3618 - accuracy: 0.9091\n",
      "Epoch 155/200\n",
      "2/2 [==============================] - 0s 3ms/step - loss: 0.2223 - accuracy: 1.0000\n",
      "Epoch 156/200\n",
      "2/2 [==============================] - 0s 4ms/step - loss: 0.2951 - accuracy: 0.9545\n",
      "Epoch 157/200\n",
      "2/2 [==============================] - 0s 3ms/step - loss: 0.3568 - accuracy: 0.9318\n",
      "Epoch 158/200\n",
      "2/2 [==============================] - 0s 3ms/step - loss: 0.1877 - accuracy: 0.9773\n",
      "Epoch 159/200\n",
      "2/2 [==============================] - 0s 6ms/step - loss: 0.1677 - accuracy: 1.0000\n",
      "Epoch 160/200\n",
      "2/2 [==============================] - 0s 3ms/step - loss: 0.3103 - accuracy: 0.9545\n",
      "Epoch 161/200\n",
      "2/2 [==============================] - 0s 4ms/step - loss: 0.3014 - accuracy: 0.9318\n",
      "Epoch 162/200\n",
      "2/2 [==============================] - 0s 3ms/step - loss: 0.1797 - accuracy: 1.0000\n",
      "Epoch 163/200\n",
      "2/2 [==============================] - 0s 3ms/step - loss: 0.3112 - accuracy: 0.9545\n",
      "Epoch 164/200\n",
      "2/2 [==============================] - 0s 3ms/step - loss: 0.3560 - accuracy: 0.9318\n",
      "Epoch 165/200\n",
      "2/2 [==============================] - 0s 3ms/step - loss: 0.2999 - accuracy: 0.9091\n",
      "Epoch 166/200\n",
      "2/2 [==============================] - 0s 3ms/step - loss: 0.2443 - accuracy: 0.9773\n",
      "Epoch 167/200\n",
      "2/2 [==============================] - 0s 2ms/step - loss: 0.2619 - accuracy: 1.0000\n",
      "Epoch 168/200\n",
      "2/2 [==============================] - 0s 5ms/step - loss: 0.2246 - accuracy: 0.9773\n",
      "Epoch 169/200\n",
      "2/2 [==============================] - 0s 4ms/step - loss: 0.3299 - accuracy: 0.9545\n",
      "Epoch 170/200\n",
      "2/2 [==============================] - 0s 3ms/step - loss: 0.2745 - accuracy: 1.0000\n",
      "Epoch 171/200\n",
      "2/2 [==============================] - 0s 3ms/step - loss: 0.2164 - accuracy: 0.9773\n",
      "Epoch 172/200\n",
      "2/2 [==============================] - 0s 5ms/step - loss: 0.2563 - accuracy: 0.9318\n",
      "Epoch 173/200\n",
      "2/2 [==============================] - 0s 3ms/step - loss: 0.2652 - accuracy: 0.9545\n",
      "Epoch 174/200\n",
      "2/2 [==============================] - 0s 3ms/step - loss: 0.4361 - accuracy: 0.9091\n",
      "Epoch 175/200\n",
      "2/2 [==============================] - 0s 3ms/step - loss: 0.2513 - accuracy: 0.9773\n",
      "Epoch 176/200\n",
      "2/2 [==============================] - 0s 3ms/step - loss: 0.2029 - accuracy: 0.9773\n",
      "Epoch 177/200\n",
      "2/2 [==============================] - 0s 3ms/step - loss: 0.2389 - accuracy: 0.9318\n",
      "Epoch 178/200\n",
      "2/2 [==============================] - 0s 3ms/step - loss: 0.3040 - accuracy: 0.8864\n",
      "Epoch 179/200\n",
      "2/2 [==============================] - 0s 3ms/step - loss: 0.2493 - accuracy: 0.9318\n",
      "Epoch 180/200\n",
      "2/2 [==============================] - 0s 4ms/step - loss: 0.1523 - accuracy: 0.9773\n",
      "Epoch 181/200\n",
      "2/2 [==============================] - 0s 4ms/step - loss: 0.2947 - accuracy: 0.9318\n",
      "Epoch 182/200\n",
      "2/2 [==============================] - 0s 3ms/step - loss: 0.2105 - accuracy: 1.0000\n",
      "Epoch 183/200\n",
      "2/2 [==============================] - 0s 4ms/step - loss: 0.1988 - accuracy: 0.9773\n",
      "Epoch 184/200\n",
      "2/2 [==============================] - 0s 3ms/step - loss: 0.1805 - accuracy: 1.0000\n",
      "Epoch 185/200\n",
      "2/2 [==============================] - 0s 5ms/step - loss: 0.2002 - accuracy: 0.9545\n",
      "Epoch 186/200\n",
      "2/2 [==============================] - 0s 3ms/step - loss: 0.2553 - accuracy: 0.9545\n",
      "Epoch 187/200\n",
      "2/2 [==============================] - 0s 3ms/step - loss: 0.2491 - accuracy: 0.9545\n",
      "Epoch 188/200\n",
      "2/2 [==============================] - 0s 3ms/step - loss: 0.1982 - accuracy: 0.9545\n",
      "Epoch 189/200\n",
      "2/2 [==============================] - 0s 3ms/step - loss: 0.1073 - accuracy: 1.0000\n",
      "Epoch 190/200\n",
      "2/2 [==============================] - 0s 3ms/step - loss: 0.2175 - accuracy: 0.9773\n",
      "Epoch 191/200\n",
      "2/2 [==============================] - 0s 3ms/step - loss: 0.1898 - accuracy: 0.9773\n",
      "Epoch 192/200\n",
      "2/2 [==============================] - 0s 3ms/step - loss: 0.1477 - accuracy: 1.0000\n",
      "Epoch 193/200\n",
      "2/2 [==============================] - 0s 3ms/step - loss: 0.2200 - accuracy: 0.9773\n",
      "Epoch 194/200\n",
      "2/2 [==============================] - 0s 5ms/step - loss: 0.1039 - accuracy: 1.0000\n",
      "Epoch 195/200\n",
      "2/2 [==============================] - 0s 3ms/step - loss: 0.2718 - accuracy: 0.9091\n",
      "Epoch 196/200\n",
      "2/2 [==============================] - 0s 3ms/step - loss: 0.1803 - accuracy: 1.0000\n",
      "Epoch 197/200\n",
      "2/2 [==============================] - 0s 4ms/step - loss: 0.1265 - accuracy: 0.9773\n",
      "Epoch 198/200\n",
      "2/2 [==============================] - 0s 4ms/step - loss: 0.1192 - accuracy: 1.0000\n",
      "Epoch 199/200\n",
      "2/2 [==============================] - 0s 3ms/step - loss: 0.1950 - accuracy: 1.0000\n",
      "Epoch 200/200\n",
      "2/2 [==============================] - 0s 3ms/step - loss: 0.2817 - accuracy: 0.9318\n"
     ]
    }
   ],
   "source": [
    "hist = model.fit(x=train_X, y=train_y, epochs=200)"
   ]
  },
  {
   "cell_type": "code",
   "execution_count": 42,
   "metadata": {
    "id": "Pb1GZDjGRP6Q"
   },
   "outputs": [
    {
     "data": {
      "image/png": "[encoded data removed]",
      "text/plain": [
       "<Figure size 432x288 with 1 Axes>"
      ]
     },
     "metadata": {
      "needs_background": "light"
     },
     "output_type": "display_data"
    }
   ],
   "source": [
    "import matplotlib.pyplot as plt\n",
    "import seaborn as sns\n",
    "\n",
    "# Entrenamiento\n",
    "epoch_count = range(1, len(hist.history['accuracy']) + 1)\n",
    "sns.lineplot(x=epoch_count,  y=hist.history['accuracy'], label='train')\n",
    "plt.show()"
   ]
  },
  {
   "cell_type": "code",
   "execution_count": 43,
   "metadata": {
    "id": "eTVDnrV0mDRf"
   },
   "outputs": [],
   "source": [
    "# Guardar lo necesario para poder re-utilizar este modelo en el futuro\n",
    "# el vocabulario utilizado (words)\n",
    "# las posibles clases\n",
    "# el modelo\n",
    "import pickle\n",
    "pickle.dump(words, open('words.pkl','wb'))\n",
    "pickle.dump(classes, open('classes.pkl','wb'))\n",
    "model.save('chatbot_model.h5')"
   ]
  },
  {
   "cell_type": "markdown",
   "metadata": {
    "id": "TnD1WvhBfVYR"
   },
   "source": [
    "### 6 - Testing y validación"
   ]
  },
  {
   "cell_type": "code",
   "execution_count": 45,
   "metadata": {
    "id": "kqBdSGt8Orkm"
   },
   "outputs": [],
   "source": [
    "# convertir texto de entrada del usuario a tokens\n",
    "def text_to_tokens(text):\n",
    "    lemma_tokens = []\n",
    "    tokens = nlp(preprocess_clean_text(text.lower()))\n",
    "    for token in tokens:\n",
    "        lemma_tokens.append(token.lemma_)\n",
    "    #print(lemma_tokens)\n",
    "    return lemma_tokens\n",
    "\n",
    "# transformar el texto de entrada tokenizado a una representación OHE\n",
    "def bag_of_words(text, vocab): \n",
    "    tokens = text_to_tokens(text)\n",
    "    bow = [0] * len(vocab)\n",
    "    for w in tokens: \n",
    "        for idx, word in enumerate(vocab):\n",
    "            if word == w: \n",
    "                bow[idx] = 1\n",
    "    #print(bow)\n",
    "    return np.array(bow)\n",
    "\n",
    "# usar modelo con la entrada en OHE y los labels posibles (tags)\n",
    "def pred_class(text, vocab, labels): \n",
    "    bow = bag_of_words(text, vocab)\n",
    "    words_recognized = sum(bow)\n",
    "\n",
    "    return_list = []\n",
    "    if words_recognized > 0: # sólo si reconoció alguna palabra del vocabulario\n",
    "        result = model.predict(np.array([bow]))[0] # es un array de softmax\n",
    "        thresh = 0.2\n",
    "        # filtrar aquellas entradas menores al umbral `thresh`\n",
    "        y_pred = [[idx, res] for idx, res in enumerate(result) if res > thresh]\n",
    "        # ordenar keys de acuerdo al valor softmax\n",
    "        y_pred.sort(key=lambda x: x[1], reverse=True)\n",
    "    \n",
    "        # return_list es una lista de los labels de mayor a menor\n",
    "        for r in y_pred:\n",
    "            return_list.append(labels[r[0]])\n",
    "            #print(labels[r[0]], r[1])\n",
    "\n",
    "    # si no reconoció palabras del vocabulario se devuelve una lista vacía\n",
    "    return return_list\n",
    "\n",
    "# obtener una respuesta predeterminada \n",
    "def get_response(intents_list, intents_json):\n",
    "    tag = intents_list[0] # tomar el tag con el mejor valor softmax\n",
    "    list_of_intents = intents_json[\"intents\"] # intents_json es todo el dataset\n",
    "    for i in list_of_intents: \n",
    "        if i[\"tag\"] == tag: # buscar el tag correspoindiente y dar una respuesta predeterminada aleatoria \n",
    "            result = random.choice(i[\"responses\"])\n",
    "            break\n",
    "    return result"
   ]
  },
  {
   "cell_type": "code",
   "execution_count": 55,
   "metadata": {
    "id": "Xp1vXQwdOvl7"
   },
   "outputs": [
    {
     "name": "stdout",
     "output_type": "stream",
     "text": [
      "Q: hola!\n",
      "BOT: Hola, ¿Cómo estás?\n",
      "Q: cuanto vale el equipo?\n",
      "BOT: El precio del controlador es de $62.000 + IVA\n",
      "Q: quiero obtener más información\n",
      "BOT: Hola, en la sección de soporte de nuestra web podrás obtener más información: https://google.com/soporte\n",
      "Q: puedo conectar una bomba?\n",
      "BOT: Si, podés conectar hasta 8 zonas de riego y 2 bombas. Contás con hasta 8 programas con diferentes modos de activación.\n",
      "Q: cuantos sensores puedo conectar?\n",
      "BOT: Es posible conectar hasta 6 sensores analógicos y digitales. Los sensores pueden ser de humedad, caudal, ph, etc.\n",
      "Q: hacen envios?\n",
      "BOT: Hacemos envíos por Vía Cargo a toda Argentina. Y por DHL al exterior.\n",
      "Q: no puedo conectarme a Internet\n",
      "BOT: Verificá que el led de comunicación parpadee en color azul.\n",
      "Q: tampoco puedo conectarme localmente\n",
      "BOT: Verificá los permismos de la aplicación. Al inicio te solicitará permiso para conectarte y tenés que aceptarlo.\n",
      "Q: gracias!\n",
      "BOT: Por nada!, cualquier otra consulta podes escribirme\n",
      "Q: \n",
      "BOT: Perdón, no comprendo la pregunta.\n"
     ]
    },
    {
     "ename": "KeyboardInterrupt",
     "evalue": "Interrupted by user",
     "output_type": "error",
     "traceback": [
      "\u001b[0;31m---------------------------------------------------------------------------\u001b[0m",
      "\u001b[0;31mKeyboardInterrupt\u001b[0m                         Traceback (most recent call last)",
      "Input \u001b[0;32mIn [55]\u001b[0m, in \u001b[0;36m<cell line: 3>\u001b[0;34m()\u001b[0m\n\u001b[1;32m      1\u001b[0m \u001b[38;5;28;01mwhile\u001b[39;00m \u001b[38;5;28;01mTrue\u001b[39;00m:\n\u001b[1;32m      2\u001b[0m     \u001b[38;5;66;03m# pedir input al usuario\u001b[39;00m\n\u001b[0;32m----> 3\u001b[0m     message \u001b[38;5;241m=\u001b[39m \u001b[38;5;28;43minput\u001b[39;49m\u001b[43m(\u001b[49m\u001b[38;5;124;43m\"\u001b[39;49m\u001b[38;5;124;43m\"\u001b[39;49m\u001b[43m)\u001b[49m\n\u001b[1;32m      4\u001b[0m     \u001b[38;5;28mprint\u001b[39m(\u001b[38;5;124m\"\u001b[39m\u001b[38;5;124mQ:\u001b[39m\u001b[38;5;124m\"\u001b[39m, message)\n\u001b[1;32m      6\u001b[0m     intents \u001b[38;5;241m=\u001b[39m pred_class(message, words, classes)\n",
      "File \u001b[0;32m~/.local/lib/python3.8/site-packages/ipykernel/kernelbase.py:1161\u001b[0m, in \u001b[0;36mKernel.raw_input\u001b[0;34m(self, prompt)\u001b[0m\n\u001b[1;32m   1157\u001b[0m \u001b[38;5;28;01mif\u001b[39;00m \u001b[38;5;129;01mnot\u001b[39;00m \u001b[38;5;28mself\u001b[39m\u001b[38;5;241m.\u001b[39m_allow_stdin:\n\u001b[1;32m   1158\u001b[0m     \u001b[38;5;28;01mraise\u001b[39;00m StdinNotImplementedError(\n\u001b[1;32m   1159\u001b[0m         \u001b[38;5;124m\"\u001b[39m\u001b[38;5;124mraw_input was called, but this frontend does not support input requests.\u001b[39m\u001b[38;5;124m\"\u001b[39m\n\u001b[1;32m   1160\u001b[0m     )\n\u001b[0;32m-> 1161\u001b[0m \u001b[38;5;28;01mreturn\u001b[39;00m \u001b[38;5;28;43mself\u001b[39;49m\u001b[38;5;241;43m.\u001b[39;49m\u001b[43m_input_request\u001b[49m\u001b[43m(\u001b[49m\n\u001b[1;32m   1162\u001b[0m \u001b[43m    \u001b[49m\u001b[38;5;28;43mstr\u001b[39;49m\u001b[43m(\u001b[49m\u001b[43mprompt\u001b[49m\u001b[43m)\u001b[49m\u001b[43m,\u001b[49m\n\u001b[1;32m   1163\u001b[0m \u001b[43m    \u001b[49m\u001b[38;5;28;43mself\u001b[39;49m\u001b[38;5;241;43m.\u001b[39;49m\u001b[43m_parent_ident\u001b[49m\u001b[43m[\u001b[49m\u001b[38;5;124;43m\"\u001b[39;49m\u001b[38;5;124;43mshell\u001b[39;49m\u001b[38;5;124;43m\"\u001b[39;49m\u001b[43m]\u001b[49m\u001b[43m,\u001b[49m\n\u001b[1;32m   1164\u001b[0m \u001b[43m    \u001b[49m\u001b[38;5;28;43mself\u001b[39;49m\u001b[38;5;241;43m.\u001b[39;49m\u001b[43mget_parent\u001b[49m\u001b[43m(\u001b[49m\u001b[38;5;124;43m\"\u001b[39;49m\u001b[38;5;124;43mshell\u001b[39;49m\u001b[38;5;124;43m\"\u001b[39;49m\u001b[43m)\u001b[49m\u001b[43m,\u001b[49m\n\u001b[1;32m   1165\u001b[0m \u001b[43m    \u001b[49m\u001b[43mpassword\u001b[49m\u001b[38;5;241;43m=\u001b[39;49m\u001b[38;5;28;43;01mFalse\u001b[39;49;00m\u001b[43m,\u001b[49m\n\u001b[1;32m   1166\u001b[0m \u001b[43m\u001b[49m\u001b[43m)\u001b[49m\n",
      "File \u001b[0;32m~/.local/lib/python3.8/site-packages/ipykernel/kernelbase.py:1205\u001b[0m, in \u001b[0;36mKernel._input_request\u001b[0;34m(self, prompt, ident, parent, password)\u001b[0m\n\u001b[1;32m   1202\u001b[0m             \u001b[38;5;28;01mbreak\u001b[39;00m\n\u001b[1;32m   1203\u001b[0m \u001b[38;5;28;01mexcept\u001b[39;00m \u001b[38;5;167;01mKeyboardInterrupt\u001b[39;00m:\n\u001b[1;32m   1204\u001b[0m     \u001b[38;5;66;03m# re-raise KeyboardInterrupt, to truncate traceback\u001b[39;00m\n\u001b[0;32m-> 1205\u001b[0m     \u001b[38;5;28;01mraise\u001b[39;00m \u001b[38;5;167;01mKeyboardInterrupt\u001b[39;00m(\u001b[38;5;124m\"\u001b[39m\u001b[38;5;124mInterrupted by user\u001b[39m\u001b[38;5;124m\"\u001b[39m) \u001b[38;5;28;01mfrom\u001b[39;00m \u001b[38;5;28mNone\u001b[39m\n\u001b[1;32m   1206\u001b[0m \u001b[38;5;28;01mexcept\u001b[39;00m \u001b[38;5;167;01mException\u001b[39;00m:\n\u001b[1;32m   1207\u001b[0m     \u001b[38;5;28mself\u001b[39m\u001b[38;5;241m.\u001b[39mlog\u001b[38;5;241m.\u001b[39mwarning(\u001b[38;5;124m\"\u001b[39m\u001b[38;5;124mInvalid Message:\u001b[39m\u001b[38;5;124m\"\u001b[39m, exc_info\u001b[38;5;241m=\u001b[39m\u001b[38;5;28;01mTrue\u001b[39;00m)\n",
      "\u001b[0;31mKeyboardInterrupt\u001b[0m: Interrupted by user"
     ]
    }
   ],
   "source": [
    "while True:\n",
    "    # pedir input al usuario\n",
    "    message = input(\"\")\n",
    "    print(\"Q:\", message)\n",
    "\n",
    "    intents = pred_class(message, words, classes)\n",
    "    if len(intents) > 0:\n",
    "        result = get_response(intents, dataset)\n",
    "        print(\"BOT:\", result)\n",
    "    else: # si no hubo ningún resultado que supere el umbral\n",
    "        print(\"BOT: Perdón, no comprendo la pregunta.\")\n",
    "    "
   ]
  },
  {
   "cell_type": "markdown",
   "metadata": {
    "id": "ayatkwp4fYQx"
   },
   "source": [
    "### 7 - Conclusiones\n",
    "Existe un problema en el algoritmo al intentar utilizar palabras como \"al\" o \"del\" porque al lematiar se expanden de 1 a 2 tokens.\n",
    "El entrenamiento demestra haber convergido a un punto de accuracy muy alto y se refleja en el chat de ejemplo más arriba."
   ]
  },
  {
   "cell_type": "markdown",
   "metadata": {},
   "source": []
  }
 ],
 "metadata": {
  "colab": {
   "authorship_tag": "ABX9TyPZeXqdm2EV/WEA+xr24OAL",
   "collapsed_sections": [],
   "name": "2b - bot_dnn_spacy_esp.ipynb",
   "provenance": []
  },
  "kernelspec": {
   "display_name": "Python 3",
   "language": "python",
   "name": "python3"
  },
  "language_info": {
   "codemirror_mode": {
    "name": "ipython",
    "version": 3
   },
   "file_extension": ".py",
   "mimetype": "text/x-python",
   "name": "python",
   "nbconvert_exporter": "python",
   "pygments_lexer": "ipython3",
   "version": "3.8.10"
  }
 },
 "nbformat": 4,
 "nbformat_minor": 4
}
